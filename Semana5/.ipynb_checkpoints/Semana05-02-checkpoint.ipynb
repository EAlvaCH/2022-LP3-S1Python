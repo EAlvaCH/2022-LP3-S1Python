{
 "cells": [
  {
   "cell_type": "markdown",
   "id": "356f3554",
   "metadata": {},
   "source": [
    "# Semana 05\n",
    "Alva Chanta Edson Alcides"
   ]
  },
  {
   "cell_type": "markdown",
   "id": "44ed6a5c",
   "metadata": {},
   "source": [
    "Temas:"
   ]
  },
  {
   "cell_type": "markdown",
   "id": "e3cc85b3",
   "metadata": {},
   "source": [
    "1. Números\n",
    "2. Variables\n",
    "3. Manejo de cadenas\n",
    "4. Ingreso de datos por teclado\n",
    "5. Operadores"
   ]
  },
  {
   "cell_type": "markdown",
   "id": "73e5740f",
   "metadata": {},
   "source": [
    "2. Variables"
   ]
  },
  {
   "cell_type": "code",
   "execution_count": 2,
   "id": "a8296884",
   "metadata": {},
   "outputs": [],
   "source": [
    "#Siempre deben iniciar con una letra o guion abajo. (Nunca con un número u otro símbolo)"
   ]
  },
  {
   "cell_type": "code",
   "execution_count": 9,
   "id": "5d5d5db9",
   "metadata": {},
   "outputs": [
    {
     "data": {
      "text/plain": [
       "21"
      ]
     },
     "execution_count": 9,
     "metadata": {},
     "output_type": "execute_result"
    }
   ],
   "source": [
    "edad=21\n",
    "edad"
   ]
  },
  {
   "cell_type": "code",
   "execution_count": 10,
   "id": "8d8a5d6d",
   "metadata": {},
   "outputs": [
    {
     "data": {
      "text/plain": [
       "'Edson'"
      ]
     },
     "execution_count": 10,
     "metadata": {},
     "output_type": "execute_result"
    }
   ],
   "source": [
    "nombre= \"Edson\"\n",
    "nombre"
   ]
  },
  {
   "cell_type": "code",
   "execution_count": 11,
   "id": "084798bb",
   "metadata": {
    "scrolled": true
   },
   "outputs": [
    {
     "data": {
      "text/plain": [
       "'Alva'"
      ]
     },
     "execution_count": 11,
     "metadata": {},
     "output_type": "execute_result"
    }
   ],
   "source": [
    "apellido= \"Alva\"\n",
    "apellido"
   ]
  },
  {
   "cell_type": "code",
   "execution_count": 12,
   "id": "b46b4f8c",
   "metadata": {},
   "outputs": [
    {
     "data": {
      "text/plain": [
       "'EdsonAlva'"
      ]
     },
     "execution_count": 12,
     "metadata": {},
     "output_type": "execute_result"
    }
   ],
   "source": [
    "nombrecompleto= nombre + apellido\n",
    "nombrecompleto"
   ]
  },
  {
   "cell_type": "code",
   "execution_count": 15,
   "id": "f134be1f",
   "metadata": {},
   "outputs": [],
   "source": [
    "#Para saber el tipo de variable utilizamos la función type()\n",
    "#Por ejemplo:"
   ]
  },
  {
   "cell_type": "code",
   "execution_count": 16,
   "id": "ebf048e8",
   "metadata": {},
   "outputs": [
    {
     "data": {
      "text/plain": [
       "int"
      ]
     },
     "execution_count": 16,
     "metadata": {},
     "output_type": "execute_result"
    }
   ],
   "source": [
    "numero= 50\n",
    "type(numero)"
   ]
  },
  {
   "cell_type": "code",
   "execution_count": 17,
   "id": "61ce7f75",
   "metadata": {},
   "outputs": [
    {
     "data": {
      "text/plain": [
       "str"
      ]
     },
     "execution_count": 17,
     "metadata": {},
     "output_type": "execute_result"
    }
   ],
   "source": [
    "type(nombre)"
   ]
  },
  {
   "cell_type": "code",
   "execution_count": 18,
   "id": "a36f7f17",
   "metadata": {},
   "outputs": [
    {
     "data": {
      "text/plain": [
       "1.68"
      ]
     },
     "execution_count": 18,
     "metadata": {},
     "output_type": "execute_result"
    }
   ],
   "source": [
    "talla= 1.68\n",
    "talla"
   ]
  },
  {
   "cell_type": "code",
   "execution_count": 19,
   "id": "8636b5f9",
   "metadata": {},
   "outputs": [
    {
     "data": {
      "text/plain": [
       "float"
      ]
     },
     "execution_count": 19,
     "metadata": {},
     "output_type": "execute_result"
    }
   ],
   "source": [
    "type(talla)"
   ]
  },
  {
   "cell_type": "code",
   "execution_count": 23,
   "id": "daa7b0c3",
   "metadata": {},
   "outputs": [
    {
     "data": {
      "text/plain": [
       "'100'"
      ]
     },
     "execution_count": 23,
     "metadata": {},
     "output_type": "execute_result"
    }
   ],
   "source": [
    "#Para convertir una cadena en un entero utilizamos la función str()\n",
    "numero = 100\n",
    "cadena = str(numero)\n",
    "cadena"
   ]
  },
  {
   "cell_type": "code",
   "execution_count": 24,
   "id": "10f91b33",
   "metadata": {},
   "outputs": [
    {
     "data": {
      "text/plain": [
       "str"
      ]
     },
     "execution_count": 24,
     "metadata": {},
     "output_type": "execute_result"
    }
   ],
   "source": [
    "type(cadena)"
   ]
  },
  {
   "cell_type": "code",
   "execution_count": 25,
   "id": "b3c4d577",
   "metadata": {},
   "outputs": [
    {
     "data": {
      "text/plain": [
       "'50'"
      ]
     },
     "execution_count": 25,
     "metadata": {},
     "output_type": "execute_result"
    }
   ],
   "source": [
    "#Para convertir una cadena en un entero utilizamos int()\n",
    "cadena2 = \"50\"\n",
    "numero2 = int(cadena2)\n",
    "cadena2"
   ]
  },
  {
   "cell_type": "code",
   "execution_count": 26,
   "id": "a9acd9d7",
   "metadata": {},
   "outputs": [
    {
     "data": {
      "text/plain": [
       "int"
      ]
     },
     "execution_count": 26,
     "metadata": {},
     "output_type": "execute_result"
    }
   ],
   "source": [
    "type(numero2)"
   ]
  },
  {
   "cell_type": "code",
   "execution_count": 27,
   "id": "5cdf1da4",
   "metadata": {},
   "outputs": [
    {
     "data": {
      "text/plain": [
       "'50'"
      ]
     },
     "execution_count": 27,
     "metadata": {},
     "output_type": "execute_result"
    }
   ],
   "source": [
    "#Para convertir una cadena a un decimal utilizamos float()\n",
    "cadena2 = \"50\"\n",
    "numero2 = float(cadena2)\n",
    "cadena2"
   ]
  },
  {
   "cell_type": "code",
   "execution_count": 28,
   "id": "27b3fbea",
   "metadata": {},
   "outputs": [
    {
     "data": {
      "text/plain": [
       "float"
      ]
     },
     "execution_count": 28,
     "metadata": {},
     "output_type": "execute_result"
    }
   ],
   "source": [
    "type(numero2)"
   ]
  },
  {
   "cell_type": "code",
   "execution_count": null,
   "id": "c987e036",
   "metadata": {},
   "outputs": [],
   "source": []
  }
 ],
 "metadata": {
  "kernelspec": {
   "display_name": "Python 3 (ipykernel)",
   "language": "python",
   "name": "python3"
  },
  "language_info": {
   "codemirror_mode": {
    "name": "ipython",
    "version": 3
   },
   "file_extension": ".py",
   "mimetype": "text/x-python",
   "name": "python",
   "nbconvert_exporter": "python",
   "pygments_lexer": "ipython3",
   "version": "3.9.7"
  }
 },
 "nbformat": 4,
 "nbformat_minor": 5
}
